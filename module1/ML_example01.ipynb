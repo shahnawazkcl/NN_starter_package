{
  "cells": [
    {
      "cell_type": "markdown",
      "metadata": {
        "formattedRanges": [],
        "cell_id": "d84394aebd694353acbfbd35aec8a347",
        "deepnote_cell_type": "text-cell-h1",
        "id": "h7aIGrqJpwGf"
      },
      "source": [
        "# Neural Networks"
      ]
    },
    {
      "cell_type": "markdown",
      "metadata": {
        "formattedRanges": [],
        "cell_id": "99e30f63fcca42e98d9131a18a1f2618",
        "deepnote_cell_type": "text-cell-p",
        "id": "L89mA-AQpwGi"
      },
      "source": [
        "Hello world example: Classification of IMDB movie reviews"
      ]
    },
    {
      "cell_type": "markdown",
      "metadata": {
        "cell_id": "981971baf36c4c2fb429fb95621661f9",
        "deepnote_cell_type": "markdown",
        "id": "LafBI9PQpwGk"
      },
      "source": [
        "- __Problem statement__: A binary classification problem, where you will classify the movie reviews as positive or negative.\n",
        "- __Dataset__: IMDB movie review dataset with $50,000$ reviews split between train and test $25000$ each and have $50\\%$ positive and $50\\%$ negative reviews. where 0 stands for negative and 1 means positive.\n",
        "- __package__: keras"
      ]
    },
    {
      "cell_type": "code",
      "metadata": {
        "source_hash": null,
        "execution_start": 1692395510037,
        "execution_millis": 5879,
        "deepnote_to_be_reexecuted": false,
        "cell_id": "e6fe697d968f4b80a842a19bd1185db5",
        "deepnote_cell_type": "code",
        "id": "PzGibK5RpwGm"
      },
      "source": [
        "# load libraries\n",
        "from keras.datasets import imdb\n",
        "import numpy as np\n",
        "from keras import models, layers, optimizers, losses, metrics\n",
        "import matplotlib.pyplot as plt"
      ],
      "execution_count": 2,
      "outputs": []
    },
    {
      "cell_type": "code",
      "metadata": {
        "source_hash": null,
        "execution_start": 1692395515834,
        "execution_millis": 2923,
        "deepnote_to_be_reexecuted": false,
        "cell_id": "dd4847a8c5f64d15978f3f41fbef00cf",
        "deepnote_cell_type": "code",
        "colab": {
          "base_uri": "https://localhost:8080/"
        },
        "id": "7-VZS4SUpwGo",
        "outputId": "a1cabaac-e6a3-472a-b55e-c144c85a3238"
      },
      "source": [
        "# load data\n",
        "(train_data,train_labels), (test_data, test_labels) = imdb.load_data(num_words=10000)"
      ],
      "execution_count": 3,
      "outputs": [
        {
          "output_type": "stream",
          "name": "stdout",
          "text": [
            "Downloading data from https://storage.googleapis.com/tensorflow/tf-keras-datasets/imdb.npz\n",
            "17464789/17464789 [==============================] - 2s 0us/step\n"
          ]
        }
      ]
    },
    {
      "cell_type": "code",
      "metadata": {
        "source_hash": null,
        "execution_start": 1692395518727,
        "execution_millis": 29,
        "deepnote_to_be_reexecuted": false,
        "cell_id": "98878ea3f37247b19582b3c7ec79c1a2",
        "deepnote_cell_type": "code",
        "colab": {
          "base_uri": "https://localhost:8080/"
        },
        "id": "OU2mK3rgpwGp",
        "outputId": "0beac4c0-5954-402f-d4fc-63fb521158d1"
      },
      "source": [
        "# take a look of the one row of traning data to have an understanding of how it looks like.\n",
        "print(f\"review: {train_data[0]}\\nlabel:{train_labels[0]}\")"
      ],
      "execution_count": 4,
      "outputs": [
        {
          "output_type": "stream",
          "name": "stdout",
          "text": [
            "review: [1, 14, 22, 16, 43, 530, 973, 1622, 1385, 65, 458, 4468, 66, 3941, 4, 173, 36, 256, 5, 25, 100, 43, 838, 112, 50, 670, 2, 9, 35, 480, 284, 5, 150, 4, 172, 112, 167, 2, 336, 385, 39, 4, 172, 4536, 1111, 17, 546, 38, 13, 447, 4, 192, 50, 16, 6, 147, 2025, 19, 14, 22, 4, 1920, 4613, 469, 4, 22, 71, 87, 12, 16, 43, 530, 38, 76, 15, 13, 1247, 4, 22, 17, 515, 17, 12, 16, 626, 18, 2, 5, 62, 386, 12, 8, 316, 8, 106, 5, 4, 2223, 5244, 16, 480, 66, 3785, 33, 4, 130, 12, 16, 38, 619, 5, 25, 124, 51, 36, 135, 48, 25, 1415, 33, 6, 22, 12, 215, 28, 77, 52, 5, 14, 407, 16, 82, 2, 8, 4, 107, 117, 5952, 15, 256, 4, 2, 7, 3766, 5, 723, 36, 71, 43, 530, 476, 26, 400, 317, 46, 7, 4, 2, 1029, 13, 104, 88, 4, 381, 15, 297, 98, 32, 2071, 56, 26, 141, 6, 194, 7486, 18, 4, 226, 22, 21, 134, 476, 26, 480, 5, 144, 30, 5535, 18, 51, 36, 28, 224, 92, 25, 104, 4, 226, 65, 16, 38, 1334, 88, 12, 16, 283, 5, 16, 4472, 113, 103, 32, 15, 16, 5345, 19, 178, 32]\n",
            "label:1\n"
          ]
        }
      ]
    },
    {
      "cell_type": "code",
      "metadata": {
        "source_hash": null,
        "execution_start": 1692395518731,
        "execution_millis": 26,
        "deepnote_to_be_reexecuted": false,
        "cell_id": "3c6722c1431546e2a203de8f14bf960d",
        "deepnote_cell_type": "code",
        "colab": {
          "base_uri": "https://localhost:8080/"
        },
        "id": "IY80fUydpwGr",
        "outputId": "63407082-5a5d-4600-8eb0-613e3c54054b"
      },
      "source": [
        "print(f\"Review:{test_data[0]}\\nLabel:{test_labels[0]}\")"
      ],
      "execution_count": 5,
      "outputs": [
        {
          "output_type": "stream",
          "name": "stdout",
          "text": [
            "Review:[1, 591, 202, 14, 31, 6, 717, 10, 10, 2, 2, 5, 4, 360, 7, 4, 177, 5760, 394, 354, 4, 123, 9, 1035, 1035, 1035, 10, 10, 13, 92, 124, 89, 488, 7944, 100, 28, 1668, 14, 31, 23, 27, 7479, 29, 220, 468, 8, 124, 14, 286, 170, 8, 157, 46, 5, 27, 239, 16, 179, 2, 38, 32, 25, 7944, 451, 202, 14, 6, 717]\n",
            "Label:0\n"
          ]
        }
      ]
    },
    {
      "cell_type": "markdown",
      "metadata": {
        "cell_id": "874cc5b54f6a4c9c8c5ebf1a81fa6687",
        "deepnote_cell_type": "markdown",
        "id": "JSoc0OlcpwGs"
      },
      "source": [
        "As we see the the variable above that the first element of train and test data, this way of printing one elemnt of a vaeiable is called using index. The interesting thing to look here is that the review is in the form of a numbers because each review in tarin data and test data is vector of word indicies from 1 to 9999. This is called encoding a sequence of word. we can actally convert these indicies to actual human redable word by the following code block. So lets have look what the first review says in human langauge."
      ]
    },
    {
      "cell_type": "code",
      "metadata": {
        "source_hash": null,
        "execution_start": 1692395518738,
        "execution_millis": 233,
        "deepnote_to_be_reexecuted": false,
        "cell_id": "86312cd8202140328b0961d5981ba092",
        "deepnote_cell_type": "code",
        "colab": {
          "base_uri": "https://localhost:8080/"
        },
        "id": "dPp1gyzDpwGt",
        "outputId": "44ef88e4-4843-42d4-8474-28755e6daba7"
      },
      "source": [
        "# here first we need to get the word indicies and then reverse/decode indicies back to english\n",
        "word_index = imdb.get_word_index()\n",
        "reverse_word_index = dict([(value, key) for (key, value) in word_index.items()])\n",
        "decode_review_train = ' '.join(reverse_word_index.get(i - 3, '?') for i in train_data[0])\n",
        "decode_review_test = ' '.join(reverse_word_index.get(i - 3, '?') for i in test_data[0])\n",
        "print(f\"Train review:{decode_review_train}\\nTest review:{decode_review_test}\")"
      ],
      "execution_count": 6,
      "outputs": [
        {
          "output_type": "stream",
          "name": "stdout",
          "text": [
            "Downloading data from https://storage.googleapis.com/tensorflow/tf-keras-datasets/imdb_word_index.json\n",
            "1641221/1641221 [==============================] - 1s 0us/step\n",
            "Train review:? this film was just brilliant casting location scenery story direction everyone's really suited the part they played and you could just imagine being there robert ? is an amazing actor and now the same being director ? father came from the same scottish island as myself so i loved the fact there was a real connection with this film the witty remarks throughout the film were great it was just brilliant so much that i bought the film as soon as it was released for ? and would recommend it to everyone to watch and the fly fishing was amazing really cried at the end it was so sad and you know what they say if you cry at a film it must have been good and this definitely was also ? to the two little boy's that played the ? of norman and paul they were just brilliant children are often left out of the ? list i think because the stars that play them all grown up are such a big profile for the whole film but these children are amazing and should be praised for what they have done don't you think the whole story was so lovely because it was true and was someone's life after all that was shared with us all\n",
            "Test review:? please give this one a miss br br ? ? and the rest of the cast rendered terrible performances the show is flat flat flat br br i don't know how michael madison could have allowed this one on his plate he almost seemed to know this wasn't going to work out and his performance was quite ? so all you madison fans give this a miss\n"
          ]
        }
      ]
    },
    {
      "cell_type": "markdown",
      "metadata": {
        "cell_id": "e6721771ddb54698a9c7211acc2bfa3a",
        "deepnote_cell_type": "markdown",
        "id": "edXKKxkWpwGv"
      },
      "source": [
        "Now, Since we cannot feed the integers to the neural nets we have to turn the list into tensor or in simple 2D vector of shape (samples, word_indices)."
      ]
    },
    {
      "cell_type": "code",
      "metadata": {
        "source_hash": null,
        "execution_start": 1692395518849,
        "execution_millis": 1430,
        "deepnote_to_be_reexecuted": false,
        "cell_id": "ad9b354b1e42484fa015e8c91c293846",
        "deepnote_cell_type": "code",
        "id": "T-Mp8AO4pwGv"
      },
      "source": [
        "# function to covert sequence into vector of same size in this case 10,000\n",
        "def vector_sequence(sequence, dimension = 10000):\n",
        "    results = np.zeros((len(sequence), dimension))\n",
        "    for i, seq in enumerate(sequence):\n",
        "        results[i, seq] = 1\n",
        "\n",
        "    return results\n",
        "\n",
        "\n",
        "x_train = vector_sequence(train_data)\n",
        "x_test = vector_sequence(test_data)"
      ],
      "execution_count": 7,
      "outputs": []
    },
    {
      "cell_type": "code",
      "metadata": {
        "source_hash": null,
        "execution_start": 1692395520271,
        "execution_millis": 49,
        "deepnote_to_be_reexecuted": false,
        "cell_id": "012c978d9a43479cba64fe2aec299e38",
        "deepnote_cell_type": "code",
        "id": "0-L9hqzMpwGw"
      },
      "source": [
        "# vectorize labels\n",
        "y_train = np.asarray(train_labels).astype('float32')\n",
        "y_test = np.asarray(test_labels).astype('float32')"
      ],
      "execution_count": 8,
      "outputs": []
    },
    {
      "cell_type": "code",
      "metadata": {
        "source_hash": null,
        "execution_start": 1692395520275,
        "execution_millis": 11,
        "deepnote_to_be_reexecuted": false,
        "cell_id": "9fb9c87a840b472da7e3941cf70a6028",
        "deepnote_cell_type": "code",
        "id": "PPqmNNBspwGx"
      },
      "source": [
        "# Now we build our network\n",
        "# no of layers: 2 with 16 hidden units and 1 output layer using sequential api\n",
        "# Activation relu and sigmoid; optomizer = RMSprop and loss binary_crossentropy and metric: accuracy\n",
        "# get a validation set to validate the training.\n",
        "\n",
        "x_val = x_train[:10000]\n",
        "partial_x_train = x_train[10000:]\n",
        "\n",
        "y_val = y_train[:10000]\n",
        "partial_y_train = y_train[10000:]"
      ],
      "execution_count": 9,
      "outputs": []
    },
    {
      "cell_type": "code",
      "metadata": {
        "source_hash": null,
        "execution_start": 1692395520280,
        "execution_millis": 93,
        "deepnote_to_be_reexecuted": false,
        "cell_id": "dcfc4d78cfb849a8bd5ac70dbf70b024",
        "deepnote_cell_type": "code",
        "id": "hkZQCd77pwGx"
      },
      "source": [
        "model = models.Sequential()\n",
        "model.add(layers.Dense(64, activation='tanh', input_shape=(10000, )))\n",
        "model.add(layers.Dense(32, activation='tanh'))\n",
        "model.add(layers.Dense(16, activation='tanh'))\n",
        "model.add(layers.Dense(1, activation='sigmoid'))"
      ],
      "execution_count": 37,
      "outputs": []
    },
    {
      "cell_type": "code",
      "metadata": {
        "source_hash": null,
        "execution_start": 1692395520370,
        "execution_millis": 12,
        "deepnote_to_be_reexecuted": false,
        "cell_id": "5e920f5f2e1b4da19ce3ff1385d00688",
        "deepnote_cell_type": "code",
        "id": "fuvGBaYYpwGy"
      },
      "source": [
        "model.compile(optimizer=optimizers.RMSprop(learning_rate=0.0001) ,loss=losses.binary_crossentropy, metrics=[metrics.binary_accuracy])"
      ],
      "execution_count": 42,
      "outputs": []
    },
    {
      "cell_type": "code",
      "metadata": {
        "source_hash": null,
        "execution_start": 1692395520431,
        "execution_millis": 432,
        "deepnote_to_be_reexecuted": false,
        "cell_id": "876d5f8fd64a4ca28886cd616f8ad187",
        "deepnote_cell_type": "code",
        "colab": {
          "base_uri": "https://localhost:8080/"
        },
        "id": "UGPVziYApwGy",
        "outputId": "dc67b045-fc7b-44d3-8d61-59875b21c5bf"
      },
      "source": [
        "# Training the modle and saving the state\n",
        "history = model.fit(x=partial_x_train, y=partial_y_train,\n",
        "batch_size=256, epochs=20, validation_data=(x_val, y_val), shuffle = True)"
      ],
      "execution_count": 48,
      "outputs": [
        {
          "output_type": "stream",
          "name": "stdout",
          "text": [
            "Epoch 1/20\n",
            "59/59 [==============================] - 3s 46ms/step - loss: 0.0541 - binary_accuracy: 0.9883 - val_loss: 0.4162 - val_binary_accuracy: 0.8742\n",
            "Epoch 2/20\n",
            "59/59 [==============================] - 2s 38ms/step - loss: 0.0503 - binary_accuracy: 0.9890 - val_loss: 0.4276 - val_binary_accuracy: 0.8752\n",
            "Epoch 3/20\n",
            "59/59 [==============================] - 2s 38ms/step - loss: 0.0465 - binary_accuracy: 0.9902 - val_loss: 0.4406 - val_binary_accuracy: 0.8721\n",
            "Epoch 4/20\n",
            "59/59 [==============================] - 3s 57ms/step - loss: 0.0430 - binary_accuracy: 0.9915 - val_loss: 0.4518 - val_binary_accuracy: 0.8728\n",
            "Epoch 5/20\n",
            "59/59 [==============================] - 2s 35ms/step - loss: 0.0399 - binary_accuracy: 0.9923 - val_loss: 0.4685 - val_binary_accuracy: 0.8688\n",
            "Epoch 6/20\n",
            "59/59 [==============================] - 2s 38ms/step - loss: 0.0368 - binary_accuracy: 0.9931 - val_loss: 0.4759 - val_binary_accuracy: 0.8708\n",
            "Epoch 7/20\n",
            "59/59 [==============================] - 2s 38ms/step - loss: 0.0339 - binary_accuracy: 0.9939 - val_loss: 0.4899 - val_binary_accuracy: 0.8690\n",
            "Epoch 8/20\n",
            "59/59 [==============================] - 4s 74ms/step - loss: 0.0311 - binary_accuracy: 0.9942 - val_loss: 0.4988 - val_binary_accuracy: 0.8698\n",
            "Epoch 9/20\n",
            "59/59 [==============================] - 5s 91ms/step - loss: 0.0284 - binary_accuracy: 0.9947 - val_loss: 0.5098 - val_binary_accuracy: 0.8701\n",
            "Epoch 10/20\n",
            "59/59 [==============================] - 3s 44ms/step - loss: 0.0256 - binary_accuracy: 0.9949 - val_loss: 0.5230 - val_binary_accuracy: 0.8680\n",
            "Epoch 11/20\n",
            "59/59 [==============================] - 3s 44ms/step - loss: 0.0230 - binary_accuracy: 0.9959 - val_loss: 0.5376 - val_binary_accuracy: 0.8659\n",
            "Epoch 12/20\n",
            "59/59 [==============================] - 3s 50ms/step - loss: 0.0206 - binary_accuracy: 0.9963 - val_loss: 0.5503 - val_binary_accuracy: 0.8650\n",
            "Epoch 13/20\n",
            "59/59 [==============================] - 3s 46ms/step - loss: 0.0186 - binary_accuracy: 0.9969 - val_loss: 0.5650 - val_binary_accuracy: 0.8637\n",
            "Epoch 14/20\n",
            "59/59 [==============================] - 2s 38ms/step - loss: 0.0167 - binary_accuracy: 0.9972 - val_loss: 0.5808 - val_binary_accuracy: 0.8631\n",
            "Epoch 15/20\n",
            "59/59 [==============================] - 2s 38ms/step - loss: 0.0152 - binary_accuracy: 0.9975 - val_loss: 0.5958 - val_binary_accuracy: 0.8621\n",
            "Epoch 16/20\n",
            "59/59 [==============================] - 2s 38ms/step - loss: 0.0140 - binary_accuracy: 0.9979 - val_loss: 0.6125 - val_binary_accuracy: 0.8625\n",
            "Epoch 17/20\n",
            "59/59 [==============================] - 3s 50ms/step - loss: 0.0128 - binary_accuracy: 0.9983 - val_loss: 0.6250 - val_binary_accuracy: 0.8609\n",
            "Epoch 18/20\n",
            "59/59 [==============================] - 3s 48ms/step - loss: 0.0118 - binary_accuracy: 0.9983 - val_loss: 0.6403 - val_binary_accuracy: 0.8602\n",
            "Epoch 19/20\n",
            "59/59 [==============================] - 2s 38ms/step - loss: 0.0110 - binary_accuracy: 0.9985 - val_loss: 0.6538 - val_binary_accuracy: 0.8596\n",
            "Epoch 20/20\n",
            "59/59 [==============================] - 2s 38ms/step - loss: 0.0103 - binary_accuracy: 0.9986 - val_loss: 0.6664 - val_binary_accuracy: 0.8592\n"
          ]
        }
      ]
    },
    {
      "cell_type": "code",
      "metadata": {
        "source_hash": null,
        "deepnote_to_be_reexecuted": true,
        "cell_id": "f68594a966b04d358f19151b67f9bf0c",
        "deepnote_cell_type": "code",
        "colab": {
          "base_uri": "https://localhost:8080/"
        },
        "id": "eRsi2MqOpwGz",
        "outputId": "b95b636f-ac88-4b29-a1bd-caa7577c4440"
      },
      "source": [
        "# Plot the Loss and accuracy of function both training and validation\n",
        "history_dict = history.history\n",
        "history_dict.keys()"
      ],
      "execution_count": 49,
      "outputs": [
        {
          "output_type": "execute_result",
          "data": {
            "text/plain": [
              "dict_keys(['loss', 'binary_accuracy', 'val_loss', 'val_binary_accuracy'])"
            ]
          },
          "metadata": {},
          "execution_count": 49
        }
      ]
    },
    {
      "cell_type": "code",
      "metadata": {
        "source_hash": null,
        "deepnote_to_be_reexecuted": true,
        "cell_id": "f136d6ac86b04790a7a58aa5ed3dd04b",
        "deepnote_cell_type": "code",
        "id": "h_wTw8yApwG0"
      },
      "source": [
        "loss_values = history_dict['loss']\n",
        "val_loss_values = history_dict['val_loss']\n",
        "acc_values = history_dict['binary_accuracy']\n",
        "val_acc_values = history_dict['val_binary_accuracy']\n",
        "epochs = range(1, len(acc_values) + 1)"
      ],
      "execution_count": 50,
      "outputs": []
    },
    {
      "cell_type": "code",
      "metadata": {
        "source_hash": null,
        "deepnote_to_be_reexecuted": true,
        "cell_id": "88b0760f58ef448cbf2728c57c49a3f4",
        "deepnote_cell_type": "code",
        "colab": {
          "base_uri": "https://localhost:8080/",
          "height": 472
        },
        "id": "GsKeIQITpwG0",
        "outputId": "ca046145-92d4-42d0-92b0-9cc3851032d5"
      },
      "source": [
        "plt.clf()\n",
        "\n",
        "plt.plot(epochs, loss_values, 'bo', label='Train loss')\n",
        "plt.plot(epochs, val_loss_values, 'r', label='Vlidation loss')\n",
        "plt.title('Training and validation loss curves.')\n",
        "plt.xlabel('Epochs')\n",
        "plt.ylabel('Loss')\n",
        "plt.legend()\n",
        "plt.show()"
      ],
      "execution_count": 51,
      "outputs": [
        {
          "output_type": "display_data",
          "data": {
            "text/plain": [
              "<Figure size 640x480 with 1 Axes>"
            ],
            "image/png": "[encoded data removed]"
          },
          "metadata": {}
        }
      ]
    },
    {
      "cell_type": "code",
      "metadata": {
        "source_hash": null,
        "deepnote_to_be_reexecuted": true,
        "cell_id": "492263afd8b04aa2bc429158c7c5e82c",
        "deepnote_cell_type": "code",
        "colab": {
          "base_uri": "https://localhost:8080/",
          "height": 472
        },
        "id": "Qy8ZrmyOpwG1",
        "outputId": "609fb180-0856-420a-d299-84a07b4b67e4"
      },
      "source": [
        "plt.plot(epochs, acc_values, 'bo', label='Train acc')\n",
        "plt.plot(epochs, val_acc_values, 'b', label='Vlidation acc')\n",
        "plt.title('Training and validation accuracy curves.')\n",
        "plt.xlabel('Epochs')\n",
        "plt.ylabel('Accuracy')\n",
        "plt.legend()\n",
        "plt.show()"
      ],
      "execution_count": 52,
      "outputs": [
        {
          "output_type": "display_data",
          "data": {
            "text/plain": [
              "<Figure size 640x480 with 1 Axes>"
            ],
            "image/png": "[encoded data removed]"
          },
          "metadata": {}
        }
      ]
    },
    {
      "cell_type": "code",
      "source": [
        "result_eval = model.evaluate(x_test, y_test)\n",
        "result_eval"
      ],
      "metadata": {
        "colab": {
          "base_uri": "https://localhost:8080/"
        },
        "id": "6zodQ03Nqvke",
        "outputId": "cce08fb0-e104-4126-e3b4-6a7c0d2f0e48"
      },
      "execution_count": 53,
      "outputs": [
        {
          "output_type": "stream",
          "name": "stdout",
          "text": [
            "782/782 [==============================] - 3s 3ms/step - loss: 0.7526 - binary_accuracy: 0.8414\n"
          ]
        },
        {
          "output_type": "execute_result",
          "data": {
            "text/plain": [
              "[0.7525829076766968, 0.8414000272750854]"
            ]
          },
          "metadata": {},
          "execution_count": 53
        }
      ]
    },
    {
      "cell_type": "code",
      "source": [
        "model.predict(x_test)"
      ],
      "metadata": {
        "colab": {
          "base_uri": "https://localhost:8080/"
        },
        "id": "O0OZ52vUvlq7",
        "outputId": "5b8e3fc7-a906-4483-cceb-7f65e0bc1544"
      },
      "execution_count": 54,
      "outputs": [
        {
          "output_type": "stream",
          "name": "stdout",
          "text": [
            "782/782 [==============================] - 3s 3ms/step\n"
          ]
        },
        {
          "output_type": "execute_result",
          "data": {
            "text/plain": [
              "array([[0.00244743],\n",
              "       [0.99867296],\n",
              "       [0.99789256],\n",
              "       ...,\n",
              "       [0.00169703],\n",
              "       [0.01304566],\n",
              "       [0.9684867 ]], dtype=float32)"
            ]
          },
          "metadata": {},
          "execution_count": 54
        }
      ]
    },
    {
      "cell_type": "code",
      "source": [
        "model.save('model/nn_movie_review_example01', overwrite=True, save_format='h5')"
      ],
      "metadata": {
        "id": "Nf-ES08WvvKo"
      },
      "execution_count": 55,
      "outputs": []
    }
  ],
  "nbformat": 4,
  "nbformat_minor": 0,
  "metadata": {
    "deepnote": {},
    "orig_nbformat": 2,
    "deepnote_notebook_id": "312f6cea189f4b318e38b6d40f9197ed",
    "deepnote_execution_queue": [],
    "colab": {
      "provenance": []
    },
    "language_info": {
      "name": "python"
    },
    "kernelspec": {
      "name": "python3",
      "display_name": "Python 3"
    }
  }
}